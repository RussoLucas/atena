{
 "cells": [
  {
   "cell_type": "code",
   "execution_count": 1,
   "metadata": {},
   "outputs": [],
   "source": [
    "import pandas as pd\n",
    "from constants import *\n",
    "\n",
    "try:\n",
    "    df22 = pd.read_excel(PATH22)\n",
    "    df23 = pd.read_excel(PATH23)\n",
    "    \n",
    "except Exception as e:\n",
    "    print(e)\n",
    "\n"
   ]
  },
  {
   "cell_type": "code",
   "execution_count": 2,
   "metadata": {},
   "outputs": [],
   "source": [
    "from constants import GROUPS_TO_INCLUDE\n",
    "\n",
    "demographic22 = pd.to_numeric(df22[df22['Group'].isin(GROUPS_TO_INCLUDE)]['MathProficient']).dropna()\n",
    "demographic23 = pd.to_numeric(df23[df23['Group'].isin(GROUPS_TO_INCLUDE)]['MathProficient']).dropna()\n",
    "\n"
   ]
  },
  {
   "cell_type": "code",
   "execution_count": 3,
   "metadata": {},
   "outputs": [
    {
     "data": {
      "text/html": [
       "<div>\n",
       "<style scoped>\n",
       "    .dataframe tbody tr th:only-of-type {\n",
       "        vertical-align: middle;\n",
       "    }\n",
       "\n",
       "    .dataframe tbody tr th {\n",
       "        vertical-align: top;\n",
       "    }\n",
       "\n",
       "    .dataframe thead th {\n",
       "        text-align: right;\n",
       "    }\n",
       "</style>\n",
       "<table border=\"1\" class=\"dataframe\">\n",
       "  <thead>\n",
       "    <tr style=\"text-align: right;\">\n",
       "      <th></th>\n",
       "      <th>Statistic</th>\n",
       "      <th>Value</th>\n",
       "    </tr>\n",
       "  </thead>\n",
       "  <tbody>\n",
       "    <tr>\n",
       "      <th>0</th>\n",
       "      <td>Minimum</td>\n",
       "      <td>0.05</td>\n",
       "    </tr>\n",
       "    <tr>\n",
       "      <th>1</th>\n",
       "      <td>25th Percentile</td>\n",
       "      <td>0.124088</td>\n",
       "    </tr>\n",
       "    <tr>\n",
       "      <th>2</th>\n",
       "      <td>Median</td>\n",
       "      <td>0.227273</td>\n",
       "    </tr>\n",
       "    <tr>\n",
       "      <th>3</th>\n",
       "      <td>75th Percentile</td>\n",
       "      <td>0.338235</td>\n",
       "    </tr>\n",
       "    <tr>\n",
       "      <th>4</th>\n",
       "      <td>Maximum</td>\n",
       "      <td>0.95</td>\n",
       "    </tr>\n",
       "    <tr>\n",
       "      <th>5</th>\n",
       "      <td>Mean</td>\n",
       "      <td>0.268258</td>\n",
       "    </tr>\n",
       "    <tr>\n",
       "      <th>6</th>\n",
       "      <td>Mode</td>\n",
       "      <td>[0.05]</td>\n",
       "    </tr>\n",
       "  </tbody>\n",
       "</table>\n",
       "</div>"
      ],
      "text/plain": [
       "         Statistic     Value\n",
       "0          Minimum      0.05\n",
       "1  25th Percentile  0.124088\n",
       "2           Median  0.227273\n",
       "3  75th Percentile  0.338235\n",
       "4          Maximum      0.95\n",
       "5             Mean  0.268258\n",
       "6             Mode    [0.05]"
      ]
     },
     "execution_count": 3,
     "metadata": {},
     "output_type": "execute_result"
    }
   ],
   "source": [
    "#21-22 stats\n",
    "min_value = demographic22.min()\n",
    "percent_25 = demographic22.quantile(0.25)\n",
    "median_value = demographic22.median()\n",
    "percent_75 = demographic22.quantile(0.75)\n",
    "max_value = demographic22.max()\n",
    "mean_value = demographic22.mean()\n",
    "mode_value = demographic22.mode().tolist()\n",
    "\n",
    "# Create a DataFrame for the statistics\n",
    "stats_df = pd.DataFrame({\n",
    "    'Statistic': ['Minimum', '25th Percentile', 'Median', '75th Percentile', 'Maximum', 'Mean', 'Mode'],\n",
    "    'Value': [min_value, percent_25, median_value, percent_75, max_value, mean_value, mode_value]\n",
    "})\n",
    "\n",
    "stats_df\n"
   ]
  },
  {
   "cell_type": "code",
   "execution_count": 4,
   "metadata": {},
   "outputs": [
    {
     "data": {
      "text/html": [
       "<div>\n",
       "<style scoped>\n",
       "    .dataframe tbody tr th:only-of-type {\n",
       "        vertical-align: middle;\n",
       "    }\n",
       "\n",
       "    .dataframe tbody tr th {\n",
       "        vertical-align: top;\n",
       "    }\n",
       "\n",
       "    .dataframe thead th {\n",
       "        text-align: right;\n",
       "    }\n",
       "</style>\n",
       "<table border=\"1\" class=\"dataframe\">\n",
       "  <thead>\n",
       "    <tr style=\"text-align: right;\">\n",
       "      <th></th>\n",
       "      <th>Statistic</th>\n",
       "      <th>Value</th>\n",
       "    </tr>\n",
       "  </thead>\n",
       "  <tbody>\n",
       "    <tr>\n",
       "      <th>0</th>\n",
       "      <td>Minimum</td>\n",
       "      <td>0.05</td>\n",
       "    </tr>\n",
       "    <tr>\n",
       "      <th>1</th>\n",
       "      <td>25th Percentile</td>\n",
       "      <td>0.111561</td>\n",
       "    </tr>\n",
       "    <tr>\n",
       "      <th>2</th>\n",
       "      <td>Median</td>\n",
       "      <td>0.204069</td>\n",
       "    </tr>\n",
       "    <tr>\n",
       "      <th>3</th>\n",
       "      <td>75th Percentile</td>\n",
       "      <td>0.293863</td>\n",
       "    </tr>\n",
       "    <tr>\n",
       "      <th>4</th>\n",
       "      <td>Maximum</td>\n",
       "      <td>0.95</td>\n",
       "    </tr>\n",
       "    <tr>\n",
       "      <th>5</th>\n",
       "      <td>Mean</td>\n",
       "      <td>0.238199</td>\n",
       "    </tr>\n",
       "    <tr>\n",
       "      <th>6</th>\n",
       "      <td>Mode</td>\n",
       "      <td>[0.05]</td>\n",
       "    </tr>\n",
       "  </tbody>\n",
       "</table>\n",
       "</div>"
      ],
      "text/plain": [
       "         Statistic     Value\n",
       "0          Minimum      0.05\n",
       "1  25th Percentile  0.111561\n",
       "2           Median  0.204069\n",
       "3  75th Percentile  0.293863\n",
       "4          Maximum      0.95\n",
       "5             Mean  0.238199\n",
       "6             Mode    [0.05]"
      ]
     },
     "execution_count": 4,
     "metadata": {},
     "output_type": "execute_result"
    }
   ],
   "source": [
    "#22-23 stats\n",
    "\n",
    "min_value = demographic23.min()\n",
    "percent_25 = demographic23.quantile(0.25)\n",
    "median_value = demographic23.median()\n",
    "percent_75 = demographic23.quantile(0.75)\n",
    "max_value = demographic23.max()\n",
    "mean_value = demographic23.mean()\n",
    "mode_value = demographic23.mode().tolist()\n",
    "\n",
    "# Create a DataFrame for the statistics\n",
    "stats_df = pd.DataFrame({\n",
    "    'Statistic': ['Minimum', '25th Percentile', 'Median', '75th Percentile', 'Maximum', 'Mean', 'Mode'],\n",
    "    'Value': [min_value, percent_25, median_value, percent_75, max_value, mean_value, mode_value]\n",
    "})\n",
    "\n",
    "stats_df\n"
   ]
  },
  {
   "cell_type": "code",
   "execution_count": null,
   "metadata": {},
   "outputs": [
    {
     "data": {
      "image/png": "[encoded data removed]",
      "text/plain": [
       "<Figure size 1000x600 with 1 Axes>"
      ]
     },
     "metadata": {},
     "output_type": "display_data"
    }
   ],
   "source": [
    "import matplotlib.pyplot as plt\n",
    "\n",
    "data_to_plot22 = demographic22\n",
    "data_to_plot23 = demographic23\n",
    "\n",
    "# Create violin plot\n",
    "fig, ax = plt.subplots(figsize=(10, 6))\n",
    "ax.violinplot([data_to_plot22, data_to_plot23], showmeans=True, showmedians=True)\n",
    "\n",
    "# Customize plot appearance\n",
    "ax.set_title('Math Proficient Scores over the defined demographics')\n",
    "ax.set_xlabel('Years')\n",
    "ax.set_ylabel('Profiency %')\n",
    "\n",
    "# Add labels to violin plots\n",
    "ax.set_xticks([1,2])\n",
    "ax.set_xticklabels(['21-22', '22-23'])\n",
    "\n",
    "# Add grid lines\n",
    "ax.yaxis.grid(True)\n",
    "\n",
    "plt.show()\n"
   ]
  }
 ],
 "metadata": {
  "kernelspec": {
   "display_name": "base",
   "language": "python",
   "name": "python3"
  },
  "language_info": {
   "codemirror_mode": {
    "name": "ipython",
    "version": 3
   },
   "file_extension": ".py",
   "mimetype": "text/x-python",
   "name": "python",
   "nbconvert_exporter": "python",
   "pygments_lexer": "ipython3",
   "version": "3.12.4"
  }
 },
 "nbformat": 4,
 "nbformat_minor": 2
}
