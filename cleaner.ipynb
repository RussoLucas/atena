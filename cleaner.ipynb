{
 "cells": [
  {
   "cell_type": "code",
   "execution_count": 1,
   "id": "f3c877fb-211e-4f4a-8119-2698cc50b1b8",
   "metadata": {},
   "outputs": [
    {
     "name": "stdout",
     "output_type": "stream",
     "text": [
      "Error: File 'AVT-Proficiency-SY-2022-23-Masked.xlsx' not found in the current directory.\n"
     ]
    }
   ],
   "source": [
    "import pandas as pd\n",
    "\n",
    "PATH = \"AVT-Proficiency-SY-2021-22-Masked.xlsx\"\n",
    "FILE_NAME = \"\"\n",
    "\n",
    "try:\n",
    "    df = pd.read_excel(PATH)\n",
    "\n",
    "    # print(df)\n",
    "    \n",
    "    if not df.empty:\n",
    "        print(\"File read successfully.\")\n",
    "        display(df)  # Display the first few rows of the DataFrame\n",
    "    \n",
    "except FileNotFoundError:\n",
    "    print(\"Error: File 'AVT-Proficiency-SY-2022-23-Masked.xlsx' not found in the current directory.\")\n",
    "    \n",
    "except Exception as e:\n",
    "    print(f\"An error occurred: {str(e)}\")\n",
    "    \n",
    "\n"
   ]
  },
  {
   "cell_type": "code",
   "execution_count": null,
   "metadata": {},
   "outputs": [],
   "source": [
    "import pandas as pd\n",
    "\n",
    "output_file = 'AVT-Proficiency-SY-2021-22-Cleaned.xlsx'\n",
    "# Create a new DataFrame with rows up to the last row to keep\n",
    "new_df = df.iloc[:805 + 1]\n",
    "\n",
    "# Save the modified DataFrame to a new Excel file\n",
    "new_df.to_excel(output_file, index=False)\n"
   ]
  }
 ],
 "metadata": {
  "kernelspec": {
   "display_name": "base",
   "language": "python",
   "name": "python3"
  },
  "language_info": {
   "codemirror_mode": {
    "name": "ipython",
    "version": 3
   },
   "file_extension": ".py",
   "mimetype": "text/x-python",
   "name": "python",
   "nbconvert_exporter": "python",
   "pygments_lexer": "ipython3",
   "version": "3.12.4"
  }
 },
 "nbformat": 4,
 "nbformat_minor": 5
}
